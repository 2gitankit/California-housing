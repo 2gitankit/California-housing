{
 "cells": [
  {
   "cell_type": "code",
   "execution_count": 3,
   "id": "ff2f6c65",
   "metadata": {},
   "outputs": [],
   "source": [
    "from sklearn.datasets import fetch_california_housing\n",
    "import pandas as pd\n",
    "import numpy as np\n",
    "import seaborn as sns\n",
    "from sklearn.linear_model import LinearRegression, LogisticRegression, Lasso\n",
    "import matplotlib.pyplot as plt\n",
    "from sklearn.model_selection import train_test_split\n",
    "from sklearn.metrics import r2_score, mean_squared_error\n",
    "from sklearn.feature_selection import mutual_info_regression, SelectPercentile, SelectKBest"
   ]
  },
  {
   "cell_type": "code",
   "execution_count": 4,
   "id": "7dae230d",
   "metadata": {},
   "outputs": [
    {
     "data": {
      "text/plain": [
       "{'data': array([[   8.3252    ,   41.        ,    6.98412698, ...,    2.55555556,\n",
       "           37.88      , -122.23      ],\n",
       "        [   8.3014    ,   21.        ,    6.23813708, ...,    2.10984183,\n",
       "           37.86      , -122.22      ],\n",
       "        [   7.2574    ,   52.        ,    8.28813559, ...,    2.80225989,\n",
       "           37.85      , -122.24      ],\n",
       "        ...,\n",
       "        [   1.7       ,   17.        ,    5.20554273, ...,    2.3256351 ,\n",
       "           39.43      , -121.22      ],\n",
       "        [   1.8672    ,   18.        ,    5.32951289, ...,    2.12320917,\n",
       "           39.43      , -121.32      ],\n",
       "        [   2.3886    ,   16.        ,    5.25471698, ...,    2.61698113,\n",
       "           39.37      , -121.24      ]]),\n",
       " 'target': array([4.526, 3.585, 3.521, ..., 0.923, 0.847, 0.894]),\n",
       " 'frame': None,\n",
       " 'target_names': ['MedHouseVal'],\n",
       " 'feature_names': ['MedInc',\n",
       "  'HouseAge',\n",
       "  'AveRooms',\n",
       "  'AveBedrms',\n",
       "  'Population',\n",
       "  'AveOccup',\n",
       "  'Latitude',\n",
       "  'Longitude'],\n",
       " 'DESCR': '.. _california_housing_dataset:\\n\\nCalifornia Housing dataset\\n--------------------------\\n\\n**Data Set Characteristics:**\\n\\n    :Number of Instances: 20640\\n\\n    :Number of Attributes: 8 numeric, predictive attributes and the target\\n\\n    :Attribute Information:\\n        - MedInc        median income in block group\\n        - HouseAge      median house age in block group\\n        - AveRooms      average number of rooms per household\\n        - AveBedrms     average number of bedrooms per household\\n        - Population    block group population\\n        - AveOccup      average number of household members\\n        - Latitude      block group latitude\\n        - Longitude     block group longitude\\n\\n    :Missing Attribute Values: None\\n\\nThis dataset was obtained from the StatLib repository.\\nhttps://www.dcc.fc.up.pt/~ltorgo/Regression/cal_housing.html\\n\\nThe target variable is the median house value for California districts,\\nexpressed in hundreds of thousands of dollars ($100,000).\\n\\nThis dataset was derived from the 1990 U.S. census, using one row per census\\nblock group. A block group is the smallest geographical unit for which the U.S.\\nCensus Bureau publishes sample data (a block group typically has a population\\nof 600 to 3,000 people).\\n\\nAn household is a group of people residing within a home. Since the average\\nnumber of rooms and bedrooms in this dataset are provided per household, these\\ncolumns may take surpinsingly large values for block groups with few households\\nand many empty houses, such as vacation resorts.\\n\\nIt can be downloaded/loaded using the\\n:func:`sklearn.datasets.fetch_california_housing` function.\\n\\n.. topic:: References\\n\\n    - Pace, R. Kelley and Ronald Barry, Sparse Spatial Autoregressions,\\n      Statistics and Probability Letters, 33 (1997) 291-297\\n'}"
      ]
     },
     "execution_count": 4,
     "metadata": {},
     "output_type": "execute_result"
    }
   ],
   "source": [
    "dt = fetch_california_housing()\n",
    "dt"
   ]
  },
  {
   "cell_type": "code",
   "execution_count": 5,
   "id": "6a96c713",
   "metadata": {},
   "outputs": [
    {
     "data": {
      "text/html": [
       "<div>\n",
       "<style scoped>\n",
       "    .dataframe tbody tr th:only-of-type {\n",
       "        vertical-align: middle;\n",
       "    }\n",
       "\n",
       "    .dataframe tbody tr th {\n",
       "        vertical-align: top;\n",
       "    }\n",
       "\n",
       "    .dataframe thead th {\n",
       "        text-align: right;\n",
       "    }\n",
       "</style>\n",
       "<table border=\"1\" class=\"dataframe\">\n",
       "  <thead>\n",
       "    <tr style=\"text-align: right;\">\n",
       "      <th></th>\n",
       "      <th>MedInc</th>\n",
       "      <th>HouseAge</th>\n",
       "      <th>AveRooms</th>\n",
       "      <th>AveBedrms</th>\n",
       "      <th>Population</th>\n",
       "      <th>AveOccup</th>\n",
       "      <th>Latitude</th>\n",
       "      <th>Longitude</th>\n",
       "    </tr>\n",
       "  </thead>\n",
       "  <tbody>\n",
       "    <tr>\n",
       "      <th>0</th>\n",
       "      <td>8.3252</td>\n",
       "      <td>41.0</td>\n",
       "      <td>6.984127</td>\n",
       "      <td>1.023810</td>\n",
       "      <td>322.0</td>\n",
       "      <td>2.555556</td>\n",
       "      <td>37.88</td>\n",
       "      <td>-122.23</td>\n",
       "    </tr>\n",
       "    <tr>\n",
       "      <th>1</th>\n",
       "      <td>8.3014</td>\n",
       "      <td>21.0</td>\n",
       "      <td>6.238137</td>\n",
       "      <td>0.971880</td>\n",
       "      <td>2401.0</td>\n",
       "      <td>2.109842</td>\n",
       "      <td>37.86</td>\n",
       "      <td>-122.22</td>\n",
       "    </tr>\n",
       "    <tr>\n",
       "      <th>2</th>\n",
       "      <td>7.2574</td>\n",
       "      <td>52.0</td>\n",
       "      <td>8.288136</td>\n",
       "      <td>1.073446</td>\n",
       "      <td>496.0</td>\n",
       "      <td>2.802260</td>\n",
       "      <td>37.85</td>\n",
       "      <td>-122.24</td>\n",
       "    </tr>\n",
       "    <tr>\n",
       "      <th>3</th>\n",
       "      <td>5.6431</td>\n",
       "      <td>52.0</td>\n",
       "      <td>5.817352</td>\n",
       "      <td>1.073059</td>\n",
       "      <td>558.0</td>\n",
       "      <td>2.547945</td>\n",
       "      <td>37.85</td>\n",
       "      <td>-122.25</td>\n",
       "    </tr>\n",
       "    <tr>\n",
       "      <th>4</th>\n",
       "      <td>3.8462</td>\n",
       "      <td>52.0</td>\n",
       "      <td>6.281853</td>\n",
       "      <td>1.081081</td>\n",
       "      <td>565.0</td>\n",
       "      <td>2.181467</td>\n",
       "      <td>37.85</td>\n",
       "      <td>-122.25</td>\n",
       "    </tr>\n",
       "  </tbody>\n",
       "</table>\n",
       "</div>"
      ],
      "text/plain": [
       "   MedInc  HouseAge  AveRooms  AveBedrms  Population  AveOccup  Latitude  \\\n",
       "0  8.3252      41.0  6.984127   1.023810       322.0  2.555556     37.88   \n",
       "1  8.3014      21.0  6.238137   0.971880      2401.0  2.109842     37.86   \n",
       "2  7.2574      52.0  8.288136   1.073446       496.0  2.802260     37.85   \n",
       "3  5.6431      52.0  5.817352   1.073059       558.0  2.547945     37.85   \n",
       "4  3.8462      52.0  6.281853   1.081081       565.0  2.181467     37.85   \n",
       "\n",
       "   Longitude  \n",
       "0    -122.23  \n",
       "1    -122.22  \n",
       "2    -122.24  \n",
       "3    -122.25  \n",
       "4    -122.25  "
      ]
     },
     "execution_count": 5,
     "metadata": {},
     "output_type": "execute_result"
    }
   ],
   "source": [
    "ch_dt = pd.DataFrame(dt.data,columns=dt.feature_names)\n",
    "ch_dt.head()"
   ]
  },
  {
   "cell_type": "code",
   "execution_count": 6,
   "id": "7d43712c",
   "metadata": {},
   "outputs": [
    {
     "data": {
      "text/plain": [
       "dict_keys(['data', 'target', 'frame', 'target_names', 'feature_names', 'DESCR'])"
      ]
     },
     "execution_count": 6,
     "metadata": {},
     "output_type": "execute_result"
    }
   ],
   "source": [
    "dt.keys()"
   ]
  },
  {
   "cell_type": "code",
   "execution_count": 67,
   "id": "7cda36f6",
   "metadata": {},
   "outputs": [],
   "source": [
    "x = dt['data']\n",
    "y = dt['target']\n",
    "feature_names = dt['feature_names']"
   ]
  },
  {
   "cell_type": "code",
   "execution_count": 26,
   "id": "c22412a7",
   "metadata": {},
   "outputs": [
    {
     "data": {
      "text/plain": [
       "(20640, 8)"
      ]
     },
     "execution_count": 26,
     "metadata": {},
     "output_type": "execute_result"
    }
   ],
   "source": [
    "x.shape"
   ]
  },
  {
   "cell_type": "markdown",
   "id": "2acaae4f",
   "metadata": {},
   "source": [
    "# Filter Based Methods "
   ]
  },
  {
   "cell_type": "markdown",
   "id": "2718f529",
   "metadata": {},
   "source": [
    "## 1. Mutual Information "
   ]
  },
  {
   "cell_type": "code",
   "execution_count": 27,
   "id": "d4425cc9",
   "metadata": {},
   "outputs": [],
   "source": [
    "from sklearn.feature_selection import mutual_info_regression, SelectPercentile, SelectKBest\n",
    "mi = mutual_info_regression(x, y)"
   ]
  },
  {
   "cell_type": "code",
   "execution_count": 28,
   "id": "d4ffd585",
   "metadata": {},
   "outputs": [
    {
     "data": {
      "text/plain": [
       "array([0.38722528, 0.0348523 , 0.10297817, 0.02372443, 0.02095336,\n",
       "       0.0732186 , 0.37176536, 0.40085413])"
      ]
     },
     "execution_count": 28,
     "metadata": {},
     "output_type": "execute_result"
    }
   ],
   "source": [
    "mi"
   ]
  },
  {
   "cell_type": "code",
   "execution_count": 29,
   "id": "399a231e",
   "metadata": {},
   "outputs": [
    {
     "data": {
      "text/html": [
       "<div>\n",
       "<style scoped>\n",
       "    .dataframe tbody tr th:only-of-type {\n",
       "        vertical-align: middle;\n",
       "    }\n",
       "\n",
       "    .dataframe tbody tr th {\n",
       "        vertical-align: top;\n",
       "    }\n",
       "\n",
       "    .dataframe thead th {\n",
       "        text-align: right;\n",
       "    }\n",
       "</style>\n",
       "<table border=\"1\" class=\"dataframe\">\n",
       "  <thead>\n",
       "    <tr style=\"text-align: right;\">\n",
       "      <th></th>\n",
       "      <th>Feature Name</th>\n",
       "      <th>Dependence</th>\n",
       "    </tr>\n",
       "  </thead>\n",
       "  <tbody>\n",
       "    <tr>\n",
       "      <th>0</th>\n",
       "      <td>MedInc</td>\n",
       "      <td>0.387225</td>\n",
       "    </tr>\n",
       "    <tr>\n",
       "      <th>1</th>\n",
       "      <td>HouseAge</td>\n",
       "      <td>0.034852</td>\n",
       "    </tr>\n",
       "    <tr>\n",
       "      <th>2</th>\n",
       "      <td>AveRooms</td>\n",
       "      <td>0.102978</td>\n",
       "    </tr>\n",
       "    <tr>\n",
       "      <th>3</th>\n",
       "      <td>AveBedrms</td>\n",
       "      <td>0.023724</td>\n",
       "    </tr>\n",
       "    <tr>\n",
       "      <th>4</th>\n",
       "      <td>Population</td>\n",
       "      <td>0.020953</td>\n",
       "    </tr>\n",
       "    <tr>\n",
       "      <th>5</th>\n",
       "      <td>AveOccup</td>\n",
       "      <td>0.073219</td>\n",
       "    </tr>\n",
       "    <tr>\n",
       "      <th>6</th>\n",
       "      <td>Latitude</td>\n",
       "      <td>0.371765</td>\n",
       "    </tr>\n",
       "    <tr>\n",
       "      <th>7</th>\n",
       "      <td>Longitude</td>\n",
       "      <td>0.400854</td>\n",
       "    </tr>\n",
       "  </tbody>\n",
       "</table>\n",
       "</div>"
      ],
      "text/plain": [
       "  Feature Name  Dependence\n",
       "0       MedInc    0.387225\n",
       "1     HouseAge    0.034852\n",
       "2     AveRooms    0.102978\n",
       "3    AveBedrms    0.023724\n",
       "4   Population    0.020953\n",
       "5     AveOccup    0.073219\n",
       "6     Latitude    0.371765\n",
       "7    Longitude    0.400854"
      ]
     },
     "execution_count": 29,
     "metadata": {},
     "output_type": "execute_result"
    }
   ],
   "source": [
    "mi_f = pd.DataFrame({\n",
    "    'Feature Name': feature_names,\n",
    "    'Dependence': mi})\n",
    "mi_f"
   ]
  },
  {
   "cell_type": "code",
   "execution_count": 30,
   "id": "c511d590",
   "metadata": {
    "scrolled": true
   },
   "outputs": [
    {
     "data": {
      "image/png": "[encoded data removed]",
      "text/plain": [
       "<Figure size 1000x500 with 1 Axes>"
      ]
     },
     "metadata": {},
     "output_type": "display_data"
    }
   ],
   "source": [
    "#Let's visualise the dependence \n",
    "plt.figure(figsize=(10, 5))\n",
    "plt.bar(feature_names, mi)\n",
    "plt.show()"
   ]
  },
  {
   "cell_type": "code",
   "execution_count": 11,
   "id": "bbe9e098",
   "metadata": {},
   "outputs": [],
   "source": [
    "#Finding best R2Score using feature selection with LinearRegression model."
   ]
  },
  {
   "cell_type": "code",
   "execution_count": 75,
   "id": "6a41ed5e",
   "metadata": {
    "scrolled": true
   },
   "outputs": [
    {
     "name": "stdout",
     "output_type": "stream",
     "text": [
      "   KBest  R^2 Score       MSE\n",
      "0      2   0.460387  0.707114\n",
      "1      3   0.572055  0.560783\n",
      "2      4   0.572359  0.560385\n",
      "3      5   0.573265  0.559198\n",
      "4      6   0.582308  0.547348\n",
      "5      7   0.582324  0.547326\n",
      "6      8   0.575788  0.555892\n"
     ]
    }
   ],
   "source": [
    "x_train, x_test, y_train, y_test = train_test_split(x, y, test_size=0.2, random_state=42)\n",
    "\n",
    "# List to store the R^2 scores & mse for different values of k\n",
    "scores = []\n",
    "\n",
    "# Iterate over k from 2 to 8\n",
    "for k in range(2, 9):\n",
    "    # Apply SelectKBest\n",
    "    selector = SelectKBest(mutual_info_regression, k=k)\n",
    "    x_train_selected = selector.fit_transform(x_train, y_train)\n",
    "    x_test_selected = selector.transform(x_test)\n",
    "    \n",
    "    # Train a linear regression model\n",
    "    model = LinearRegression()\n",
    "    model.fit(x_train_selected, y_train)\n",
    "    \n",
    "    # Predict on the test set\n",
    "    y_pred = model.predict(x_test_selected)\n",
    "    \n",
    "    # Calculate the R^2 score & mse\n",
    "    r2 = r2_score(y_test, y_pred)\n",
    "    mse = mean_squared_error(y_test,y_pred)\n",
    "    # Store the R^2 score & mse \n",
    "    scores.append((k, r2,mse))\n",
    "\n",
    "df_k = pd.DataFrame(scores, columns=['KBest', 'R^2 Score', 'MSE'])\n",
    "\n",
    "# Display the DataFrame\n",
    "print(df_k)"
   ]
  },
  {
   "cell_type": "markdown",
   "id": "87997dbc",
   "metadata": {},
   "source": [
    "## 2. Pearson Correlation "
   ]
  },
  {
   "cell_type": "code",
   "execution_count": 13,
   "id": "3b2564c2",
   "metadata": {},
   "outputs": [],
   "source": [
    "# 1. Analyse the relationship between 'each' individual feature (input) and output"
   ]
  },
  {
   "cell_type": "code",
   "execution_count": 58,
   "id": "bb9485f9",
   "metadata": {},
   "outputs": [
    {
     "name": "stdout",
     "output_type": "stream",
     "text": [
      "   KBest  R^2 Score       MSE\n",
      "0      2   0.464171  0.702155\n",
      "1      3   0.470251  0.694188\n",
      "2      4   0.504317  0.649548\n",
      "3      5   0.512933  0.638257\n",
      "4      6   0.574969  0.556964\n",
      "5      7   0.575092  0.556803\n",
      "6      8   0.575788  0.555892\n"
     ]
    }
   ],
   "source": [
    "x_train, x_test, y_train, y_test = train_test_split(x, y, test_size=0.2, random_state=42)\n",
    "\n",
    "# List to store the R^2 scores & mse for different values of k\n",
    "scores = []\n",
    "\n",
    "# Iterate over k from 2 to 8\n",
    "for k in range(2, 9):\n",
    "    # Apply SelectKBest\n",
    "    selector = SelectKBest(f_regression, k=k)\n",
    "    x_train_selected = selector.fit_transform(x_train, y_train)\n",
    "    x_test_selected = selector.transform(x_test)\n",
    "    \n",
    "    # Train a linear regression model\n",
    "    model = LinearRegression()\n",
    "    model.fit(x_train_selected, y_train)\n",
    "    \n",
    "    # Predict on the test set\n",
    "    y_pred = model.predict(x_test_selected)\n",
    "    \n",
    "    # Calculate the R^2 score & mse\n",
    "    r2 = r2_score(y_test, y_pred)\n",
    "    mse = mean_squared_error(y_test,y_pred)\n",
    "    # Store the R^2 score & mse\n",
    "    scores.append((k, r2,mse))\n",
    "\n",
    "df_k = pd.DataFrame(scores, columns=['KBest', 'R^2 Score', 'MSE'])\n",
    "\n",
    "# Display the DataFrame\n",
    "print(df_k)"
   ]
  },
  {
   "cell_type": "code",
   "execution_count": 33,
   "id": "d35b0608",
   "metadata": {},
   "outputs": [],
   "source": [
    "# 2. Analyze relationship b/w the features themselves."
   ]
  },
  {
   "cell_type": "code",
   "execution_count": 34,
   "id": "6cf04a64",
   "metadata": {},
   "outputs": [
    {
     "data": {
      "text/html": [
       "<div>\n",
       "<style scoped>\n",
       "    .dataframe tbody tr th:only-of-type {\n",
       "        vertical-align: middle;\n",
       "    }\n",
       "\n",
       "    .dataframe tbody tr th {\n",
       "        vertical-align: top;\n",
       "    }\n",
       "\n",
       "    .dataframe thead th {\n",
       "        text-align: right;\n",
       "    }\n",
       "</style>\n",
       "<table border=\"1\" class=\"dataframe\">\n",
       "  <thead>\n",
       "    <tr style=\"text-align: right;\">\n",
       "      <th></th>\n",
       "      <th>MedInc</th>\n",
       "      <th>HouseAge</th>\n",
       "      <th>AveRooms</th>\n",
       "      <th>AveBedrms</th>\n",
       "      <th>Population</th>\n",
       "      <th>AveOccup</th>\n",
       "      <th>Latitude</th>\n",
       "      <th>Longitude</th>\n",
       "    </tr>\n",
       "  </thead>\n",
       "  <tbody>\n",
       "    <tr>\n",
       "      <th>MedInc</th>\n",
       "      <td>1.000000</td>\n",
       "      <td>-0.119034</td>\n",
       "      <td>0.326895</td>\n",
       "      <td>-0.062040</td>\n",
       "      <td>0.004834</td>\n",
       "      <td>0.018766</td>\n",
       "      <td>-0.079809</td>\n",
       "      <td>-0.015176</td>\n",
       "    </tr>\n",
       "    <tr>\n",
       "      <th>HouseAge</th>\n",
       "      <td>-0.119034</td>\n",
       "      <td>1.000000</td>\n",
       "      <td>-0.153277</td>\n",
       "      <td>-0.077747</td>\n",
       "      <td>-0.296244</td>\n",
       "      <td>0.013191</td>\n",
       "      <td>0.011173</td>\n",
       "      <td>-0.108197</td>\n",
       "    </tr>\n",
       "    <tr>\n",
       "      <th>AveRooms</th>\n",
       "      <td>0.326895</td>\n",
       "      <td>-0.153277</td>\n",
       "      <td>1.000000</td>\n",
       "      <td>0.847621</td>\n",
       "      <td>-0.072213</td>\n",
       "      <td>-0.004852</td>\n",
       "      <td>0.106389</td>\n",
       "      <td>-0.027540</td>\n",
       "    </tr>\n",
       "    <tr>\n",
       "      <th>AveBedrms</th>\n",
       "      <td>-0.062040</td>\n",
       "      <td>-0.077747</td>\n",
       "      <td>0.847621</td>\n",
       "      <td>1.000000</td>\n",
       "      <td>-0.066197</td>\n",
       "      <td>-0.006181</td>\n",
       "      <td>0.069721</td>\n",
       "      <td>0.013344</td>\n",
       "    </tr>\n",
       "    <tr>\n",
       "      <th>Population</th>\n",
       "      <td>0.004834</td>\n",
       "      <td>-0.296244</td>\n",
       "      <td>-0.072213</td>\n",
       "      <td>-0.066197</td>\n",
       "      <td>1.000000</td>\n",
       "      <td>0.069863</td>\n",
       "      <td>-0.108785</td>\n",
       "      <td>0.099773</td>\n",
       "    </tr>\n",
       "    <tr>\n",
       "      <th>AveOccup</th>\n",
       "      <td>0.018766</td>\n",
       "      <td>0.013191</td>\n",
       "      <td>-0.004852</td>\n",
       "      <td>-0.006181</td>\n",
       "      <td>0.069863</td>\n",
       "      <td>1.000000</td>\n",
       "      <td>0.002366</td>\n",
       "      <td>0.002476</td>\n",
       "    </tr>\n",
       "    <tr>\n",
       "      <th>Latitude</th>\n",
       "      <td>-0.079809</td>\n",
       "      <td>0.011173</td>\n",
       "      <td>0.106389</td>\n",
       "      <td>0.069721</td>\n",
       "      <td>-0.108785</td>\n",
       "      <td>0.002366</td>\n",
       "      <td>1.000000</td>\n",
       "      <td>-0.924664</td>\n",
       "    </tr>\n",
       "    <tr>\n",
       "      <th>Longitude</th>\n",
       "      <td>-0.015176</td>\n",
       "      <td>-0.108197</td>\n",
       "      <td>-0.027540</td>\n",
       "      <td>0.013344</td>\n",
       "      <td>0.099773</td>\n",
       "      <td>0.002476</td>\n",
       "      <td>-0.924664</td>\n",
       "      <td>1.000000</td>\n",
       "    </tr>\n",
       "  </tbody>\n",
       "</table>\n",
       "</div>"
      ],
      "text/plain": [
       "              MedInc  HouseAge  AveRooms  AveBedrms  Population  AveOccup  \\\n",
       "MedInc      1.000000 -0.119034  0.326895  -0.062040    0.004834  0.018766   \n",
       "HouseAge   -0.119034  1.000000 -0.153277  -0.077747   -0.296244  0.013191   \n",
       "AveRooms    0.326895 -0.153277  1.000000   0.847621   -0.072213 -0.004852   \n",
       "AveBedrms  -0.062040 -0.077747  0.847621   1.000000   -0.066197 -0.006181   \n",
       "Population  0.004834 -0.296244 -0.072213  -0.066197    1.000000  0.069863   \n",
       "AveOccup    0.018766  0.013191 -0.004852  -0.006181    0.069863  1.000000   \n",
       "Latitude   -0.079809  0.011173  0.106389   0.069721   -0.108785  0.002366   \n",
       "Longitude  -0.015176 -0.108197 -0.027540   0.013344    0.099773  0.002476   \n",
       "\n",
       "            Latitude  Longitude  \n",
       "MedInc     -0.079809  -0.015176  \n",
       "HouseAge    0.011173  -0.108197  \n",
       "AveRooms    0.106389  -0.027540  \n",
       "AveBedrms   0.069721   0.013344  \n",
       "Population -0.108785   0.099773  \n",
       "AveOccup    0.002366   0.002476  \n",
       "Latitude    1.000000  -0.924664  \n",
       "Longitude  -0.924664   1.000000  "
      ]
     },
     "execution_count": 34,
     "metadata": {},
     "output_type": "execute_result"
    }
   ],
   "source": [
    "ch_dt.corr()"
   ]
  },
  {
   "cell_type": "code",
   "execution_count": 35,
   "id": "ee2738da",
   "metadata": {},
   "outputs": [
    {
     "data": {
      "text/plain": [
       "<Axes: >"
      ]
     },
     "execution_count": 35,
     "metadata": {},
     "output_type": "execute_result"
    },
    {
     "data": {
      "image/png": "[encoded data removed]",
      "text/plain": [
       "<Figure size 640x480 with 2 Axes>"
      ]
     },
     "metadata": {},
     "output_type": "display_data"
    }
   ],
   "source": [
    "import seaborn as sns\n",
    "sns.heatmap(ch_dt.corr(),annot=True,cmap=\"coolwarm\")"
   ]
  },
  {
   "cell_type": "code",
   "execution_count": null,
   "id": "5f15cbf0",
   "metadata": {},
   "outputs": [],
   "source": [
    "# Obseravtions on the basis of the heatmap :\n",
    "# 1. AveBedrms has a higher correlation with AveRooms.\n",
    "# 2. In comparison, AveRooms has higher correlation with the target than AveBedrms. Therefore AveBedrms can be removed.\n",
    "# 3. AveOccup shows low contribution with other features. \n",
    "# 4. Population shows low correlation with other features. "
   ]
  },
  {
   "cell_type": "code",
   "execution_count": 47,
   "id": "67bb4d98",
   "metadata": {
    "scrolled": false
   },
   "outputs": [
    {
     "data": {
      "text/html": [
       "<div>\n",
       "<style scoped>\n",
       "    .dataframe tbody tr th:only-of-type {\n",
       "        vertical-align: middle;\n",
       "    }\n",
       "\n",
       "    .dataframe tbody tr th {\n",
       "        vertical-align: top;\n",
       "    }\n",
       "\n",
       "    .dataframe thead th {\n",
       "        text-align: right;\n",
       "    }\n",
       "</style>\n",
       "<table border=\"1\" class=\"dataframe\">\n",
       "  <thead>\n",
       "    <tr style=\"text-align: right;\">\n",
       "      <th></th>\n",
       "      <th>MedInc</th>\n",
       "      <th>HouseAge</th>\n",
       "      <th>AveRooms</th>\n",
       "      <th>Latitude</th>\n",
       "      <th>Longitude</th>\n",
       "    </tr>\n",
       "  </thead>\n",
       "  <tbody>\n",
       "    <tr>\n",
       "      <th>0</th>\n",
       "      <td>8.3252</td>\n",
       "      <td>41.0</td>\n",
       "      <td>6.984127</td>\n",
       "      <td>37.88</td>\n",
       "      <td>-122.23</td>\n",
       "    </tr>\n",
       "    <tr>\n",
       "      <th>1</th>\n",
       "      <td>8.3014</td>\n",
       "      <td>21.0</td>\n",
       "      <td>6.238137</td>\n",
       "      <td>37.86</td>\n",
       "      <td>-122.22</td>\n",
       "    </tr>\n",
       "    <tr>\n",
       "      <th>2</th>\n",
       "      <td>7.2574</td>\n",
       "      <td>52.0</td>\n",
       "      <td>8.288136</td>\n",
       "      <td>37.85</td>\n",
       "      <td>-122.24</td>\n",
       "    </tr>\n",
       "    <tr>\n",
       "      <th>3</th>\n",
       "      <td>5.6431</td>\n",
       "      <td>52.0</td>\n",
       "      <td>5.817352</td>\n",
       "      <td>37.85</td>\n",
       "      <td>-122.25</td>\n",
       "    </tr>\n",
       "    <tr>\n",
       "      <th>4</th>\n",
       "      <td>3.8462</td>\n",
       "      <td>52.0</td>\n",
       "      <td>6.281853</td>\n",
       "      <td>37.85</td>\n",
       "      <td>-122.25</td>\n",
       "    </tr>\n",
       "  </tbody>\n",
       "</table>\n",
       "</div>"
      ],
      "text/plain": [
       "   MedInc  HouseAge  AveRooms  Latitude  Longitude\n",
       "0  8.3252      41.0  6.984127     37.88    -122.23\n",
       "1  8.3014      21.0  6.238137     37.86    -122.22\n",
       "2  7.2574      52.0  8.288136     37.85    -122.24\n",
       "3  5.6431      52.0  5.817352     37.85    -122.25\n",
       "4  3.8462      52.0  6.281853     37.85    -122.25"
      ]
     },
     "execution_count": 47,
     "metadata": {},
     "output_type": "execute_result"
    }
   ],
   "source": [
    "x_new = ch_dt.drop(['AveBedrms','AveOccup','Population'], axis=1)\n",
    "x_new.head()"
   ]
  },
  {
   "cell_type": "code",
   "execution_count": null,
   "id": "a0c8e565",
   "metadata": {},
   "outputs": [],
   "source": [
    "# Observation : With 6 features (MedInc\tHouseAge\tAveRooms\tPopulation\tLatitude\tLongitude) - R2score is 0.5814132.\n",
    "# If Population is removed then the R2score is 0.5813744"
   ]
  },
  {
   "cell_type": "code",
   "execution_count": 53,
   "id": "37f0403f",
   "metadata": {},
   "outputs": [
    {
     "name": "stdout",
     "output_type": "stream",
     "text": [
      "R2score =  0.5813744243302476\n",
      "MSE =  0.5485707128789087\n"
     ]
    }
   ],
   "source": [
    "x_train, x_test, y_train, y_test = train_test_split(x_new, y, test_size=0.2, random_state=42)\n",
    "model = LinearRegression()\n",
    "model.fit(x_train, y_train)\n",
    "y_pred = model.predict(x_test)\n",
    "print(\"R2score = \", r2_score(y_test, y_pred))\n",
    "print(\"MSE = \", mean_squared_error(y_test, y_pred))"
   ]
  },
  {
   "cell_type": "markdown",
   "id": "37f5e49d",
   "metadata": {},
   "source": [
    "# Wrapper Based Methods"
   ]
  },
  {
   "cell_type": "markdown",
   "id": "59819ae4",
   "metadata": {},
   "source": [
    "## RFE"
   ]
  },
  {
   "cell_type": "code",
   "execution_count": 58,
   "id": "51076bb0",
   "metadata": {},
   "outputs": [
    {
     "name": "stdout",
     "output_type": "stream",
     "text": [
      "(20640, 5)\n"
     ]
    }
   ],
   "source": [
    "from sklearn.feature_selection import RFE\n",
    "from sklearn.linear_model import Lasso\n",
    "estimator = Lasso()\n",
    "x_new = RFE(estimator, n_features_to_select=5, step=1).fit_transform(x, y)\n",
    "print(x_new.shape)"
   ]
  },
  {
   "cell_type": "code",
   "execution_count": 59,
   "id": "bbdfffed",
   "metadata": {},
   "outputs": [
    {
     "name": "stdout",
     "output_type": "stream",
     "text": [
      "R2score =  0.5811157560182503\n",
      "MSE =  0.5489096741573364\n"
     ]
    }
   ],
   "source": [
    "x_train, x_test, y_train, y_test = train_test_split(x_new, y, test_size=0.2, random_state=42)\n",
    "model = LinearRegression()\n",
    "model.fit(x_train, y_train)\n",
    "y_pred = model.predict(x_test)\n",
    "print(\"R2score = \", r2_score(y_test, y_pred))\n",
    "print(\"MSE = \", mean_squared_error(y_test, y_pred))"
   ]
  },
  {
   "cell_type": "code",
   "execution_count": 68,
   "id": "d25806e9",
   "metadata": {},
   "outputs": [
    {
     "name": "stdout",
     "output_type": "stream",
     "text": [
      "(20640, 8)\n"
     ]
    }
   ],
   "source": [
    "print(x.shape)"
   ]
  },
  {
   "cell_type": "code",
   "execution_count": 69,
   "id": "be77d7e1",
   "metadata": {},
   "outputs": [
    {
     "name": "stdout",
     "output_type": "stream",
     "text": [
      "Features: 1; R2 = 0.45885918903846656\n",
      "Features: 2; R2 = 0.4940606792889837\n",
      "Features: 3; R2 = 0.4953076598494679\n",
      "Features: 4; R2 = 0.49559608846973724\n",
      "Features: 5; R2 = 0.5811157560182503\n",
      "Features: 6; R2 = 0.5820217896973205\n",
      "Features: 7; R2 = 0.5799358837198192\n",
      "Features: 8; R2 = 0.5757877060324528\n"
     ]
    }
   ],
   "source": [
    "# Looping through the range of features. \n",
    "for k in range(1, x.shape[1]+1):\n",
    "    estimator = Lasso()\n",
    "    selector = RFE(estimator, n_features_to_select=k, step=1)\n",
    "    x_new = selector.fit_transform(x, y)\n",
    "    x_train, x_test, y_train, y_test = train_test_split(x_new, y, test_size=0.2, random_state=42)\n",
    "    model = LinearRegression()\n",
    "    model.fit(x_train, y_train)\n",
    "    y_pred = model.predict(x_test)\n",
    "    print(f'Features: {k}; R2 = {r2_score(y_test, y_pred)}')"
   ]
  },
  {
   "cell_type": "markdown",
   "id": "c01fb91c",
   "metadata": {},
   "source": [
    "## Select from Model"
   ]
  },
  {
   "cell_type": "code",
   "execution_count": 39,
   "id": "f2e684dc",
   "metadata": {},
   "outputs": [
    {
     "name": "stdout",
     "output_type": "stream",
     "text": [
      "Or_shape = (20640, 8)\n",
      "New_shape = (20640, 2)\n",
      "R2score =  0.4940606792889837\n",
      "MSE =  0.6629874283048177\n"
     ]
    }
   ],
   "source": [
    "from sklearn.svm import LinearSVC\n",
    "from sklearn.feature_selection import SelectFromModel\n",
    "print(\"Or_shape =\", x.shape) \n",
    "lass = Lasso().fit(x, y)\n",
    "model = SelectFromModel(lass, prefit=True)\n",
    "x_new = model.transform(x)\n",
    "print(\"New_shape =\",x_new.shape)\n",
    "x_train, x_test, y_train, y_test = train_test_split(x_new, y, test_size=0.2,random_state=42)\n",
    "print(\"R2score = \", r2_score(y_test, y_pred))\n",
    "print(\"MSE = \", mean_squared_error(y_test, y_pred))"
   ]
  },
  {
   "cell_type": "markdown",
   "id": "399acfaf",
   "metadata": {},
   "source": [
    "## Sequential Feature Selection "
   ]
  },
  {
   "cell_type": "code",
   "execution_count": 19,
   "id": "e033a296",
   "metadata": {},
   "outputs": [
    {
     "name": "stdout",
     "output_type": "stream",
     "text": [
      "SequentialFeatureSelector(estimator=RidgeCV(), n_features_to_select='auto')\n",
      "R2score =  0.5088800081000429\n",
      "MSE =  0.6435680467793017\n"
     ]
    }
   ],
   "source": [
    "#Forward\n",
    "from sklearn.feature_selection import SequentialFeatureSelector\n",
    "from sklearn.linear_model import RidgeCV\n",
    "ridge = RidgeCV().fit(x, y)\n",
    "sfs_forward = SequentialFeatureSelector(\n",
    "    ridge, n_features_to_select=\"auto\", direction=\"forward\"\n",
    ").fit(x, y)\n",
    "\n",
    "print(sfs_forward)\n",
    "x_new = sfs_forward.transform(x)\n",
    "x_new.shape\n",
    "x_train, x_test, y_train, y_test = train_test_split(x_new, y, test_size=0.2,random_state=42)\n",
    "model = LinearRegression()\n",
    "model.fit(x_train, y_train)\n",
    "y_pred = model.predict(x_test)\n",
    "print(\"R2score = \", r2_score(y_test, y_pred))\n",
    "print(\"MSE = \", mean_squared_error(y_test, y_pred))"
   ]
  },
  {
   "cell_type": "code",
   "execution_count": 20,
   "id": "13fed5ac",
   "metadata": {},
   "outputs": [
    {
     "name": "stdout",
     "output_type": "stream",
     "text": [
      "SequentialFeatureSelector(direction='backward', estimator=RidgeCV(),\n",
      "                          n_features_to_select='auto')\n",
      "R2score =  0.5810616616067183\n",
      "MSE =  0.5489805599598805\n"
     ]
    }
   ],
   "source": [
    "#Backward\n",
    "from sklearn.feature_selection import SequentialFeatureSelector\n",
    "from sklearn.linear_model import RidgeCV\n",
    "ridge = RidgeCV().fit(x, y)\n",
    "sfs_backward = SequentialFeatureSelector(\n",
    "    ridge, n_features_to_select=\"auto\", direction=\"backward\"\n",
    ").fit(x, y)\n",
    "\n",
    "print(sfs_backward)\n",
    "x_new = sfs_backward.transform(x)\n",
    "x_new.shape\n",
    "x_train, x_test, y_train, y_test = train_test_split(x_new, y, test_size=0.2,random_state=42)\n",
    "model = LinearRegression()\n",
    "model.fit(x_train, y_train)\n",
    "y_pred = model.predict(x_test)\n",
    "print(\"R2score = \", r2_score(y_test, y_pred))\n",
    "print(\"MSE = \", mean_squared_error(y_test, y_pred))"
   ]
  },
  {
   "cell_type": "markdown",
   "id": "2381c49d",
   "metadata": {},
   "source": [
    "## Embedded Methods "
   ]
  },
  {
   "cell_type": "code",
   "execution_count": 83,
   "id": "b5d74e34",
   "metadata": {},
   "outputs": [
    {
     "name": "stdout",
     "output_type": "stream",
     "text": [
      "R2score =  0.2841671821008396\n",
      "MSE =  0.9380337514945428\n"
     ]
    }
   ],
   "source": [
    "x_train, x_test, y_train, y_test = train_test_split(x, y, test_size=0.2, random_state=42)\n",
    "model = Lasso()\n",
    "model.fit(x_train, y_train)\n",
    "y_pred = model.predict(x_test)\n",
    "print(\"R2score = \", r2_score(y_test, y_pred))\n",
    "print(\"MSE = \", mean_squared_error(y_test, y_pred))"
   ]
  },
  {
   "cell_type": "markdown",
   "id": "78f9fd79",
   "metadata": {},
   "source": [
    "## PCA "
   ]
  },
  {
   "cell_type": "code",
   "execution_count": 96,
   "id": "6b08287c",
   "metadata": {},
   "outputs": [
    {
     "name": "stdout",
     "output_type": "stream",
     "text": [
      "Or_shape = (20640, 8)\n",
      "New_shape = (20640, 8)\n",
      "R2score =  0.575787706032451\n",
      "MSE =  0.5558915986952442\n"
     ]
    }
   ],
   "source": [
    "#LinearRegressor\n",
    "print(\"Or_shape =\", x.shape) \n",
    "from sklearn.decomposition import PCA\n",
    "x_new = PCA(n_components=8, svd_solver='full').fit_transform(x)\n",
    "print(\"New_shape =\",x_new.shape)\n",
    "x_train, x_test, y_train, y_test = train_test_split(x_new, y, test_size=0.2, random_state=42)\n",
    "model = LinearRegression()\n",
    "model.fit(x_train, y_train)\n",
    "y_pred = model.predict(x_test)\n",
    "print(\"R2score = \", r2_score(y_test, y_pred))\n",
    "print(\"MSE = \", mean_squared_error(y_test, y_pred))"
   ]
  },
  {
   "cell_type": "code",
   "execution_count": 95,
   "id": "1ce1645a",
   "metadata": {},
   "outputs": [
    {
     "name": "stdout",
     "output_type": "stream",
     "text": [
      "New_shape = (20640, 8)\n",
      "R2score =  0.7615593359307118\n",
      "MSE =  0.31245478697411766\n"
     ]
    }
   ],
   "source": [
    "#RandomForest \n",
    "from sklearn.ensemble import RandomForestRegressor \n",
    "from sklearn.decomposition import PCA\n",
    "x_new = PCA(n_components=8, svd_solver='full').fit_transform(x)\n",
    "print(\"New_shape =\",x_new.shape)\n",
    "x_train, x_test, y_train, y_test = train_test_split(x_new, y, test_size=0.2, random_state=42)\n",
    "model = RandomForestRegressor()\n",
    "model.fit(x_train, y_train)\n",
    "y_pred = model.predict(x_test)\n",
    "print(\"R2score = \", r2_score(y_test, y_pred))\n",
    "print(\"MSE = \", mean_squared_error(y_test, y_pred))"
   ]
  }
 ],
 "metadata": {
  "kernelspec": {
   "display_name": "Python 3 (ipykernel)",
   "language": "python",
   "name": "python3"
  },
  "language_info": {
   "codemirror_mode": {
    "name": "ipython",
    "version": 3
   },
   "file_extension": ".py",
   "mimetype": "text/x-python",
   "name": "python",
   "nbconvert_exporter": "python",
   "pygments_lexer": "ipython3",
   "version": "3.10.9"
  }
 },
 "nbformat": 4,
 "nbformat_minor": 5
}
